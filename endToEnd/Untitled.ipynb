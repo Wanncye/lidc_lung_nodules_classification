{
 "cells": [
  {
   "cell_type": "code",
   "execution_count": 24,
   "metadata": {
    "collapsed": false
   },
   "outputs": [],
   "source": [
    "import torch\n",
    "\n",
    "tensorA_2x3 = torch.tensor(\n",
    "    [[1,2,3],\n",
    "     [3,2,1]]\n",
    ")\n",
    "\n",
    "tensorB_1x3 = torch.tensor(\n",
    "    [[1,2,3]]\n",
    ")\n",
    "\n",
    "tensorC_scalar = 5\n",
    "\n",
    "tensorD_2x1 = torch.tensor(\n",
    "    [[2],\n",
    "     [3]]\n",
    ")\n",
    "\n",
    "tensorE_3x1 = torch.tensor(\n",
    "    [[2],\n",
    "     [3],\n",
    "     [4]]\n",
    ")\n",
    "\n",
    "tensorF_3x2 = torch.tensor(\n",
    "    [[1,2],\n",
    "     [3,4],\n",
    "     [5,6]]\n",
    ")\n",
    "\n",
    "tensorG_2x3x2 = torch.tensor(\n",
    "    [[[1,2],\n",
    "      [3,4],\n",
    "      [2,1]],\n",
    "     [[4,5],\n",
    "      [5,4],\n",
    "      [1,2]]]\n",
    ")\n",
    "\n",
    "tensorH_2x2x3 = torch.tensor(\n",
    "    [[[1,2,3],\n",
    "      [3,2,1]],\n",
    "     [[4,5,6],\n",
    "      [6,5,4]]]\n",
    ")"
   ]
  },
  {
   "cell_type": "code",
   "execution_count": 8,
   "metadata": {
    "collapsed": false
   },
   "outputs": [
    {
     "name": "stdout",
     "output_type": "stream",
     "text": [
      "tensor([[1, 4, 9],\n",
      "        [9, 4, 1]])\n"
     ]
    }
   ],
   "source": [
    "# *乘，shape相同，对应元素相乘\n",
    "print(tensorA_2x3 * tensorA_2x3)"
   ]
  },
  {
   "cell_type": "code",
   "execution_count": 10,
   "metadata": {
    "collapsed": false
   },
   "outputs": [
    {
     "name": "stdout",
     "output_type": "stream",
     "text": [
      "tensor([[1, 4, 9],\n",
      "        [3, 4, 3]])\n",
      "tensor([[2, 4, 6],\n",
      "        [9, 6, 3]])\n"
     ]
    }
   ],
   "source": [
    "# *乘，两元素shape不同\n",
    "print(tensorA_2x3 * tensorB_1x3)\n",
    "print(tensorA_2x3 * tensorD_2x1)"
   ]
  },
  {
   "cell_type": "code",
   "execution_count": 15,
   "metadata": {
    "collapsed": false
   },
   "outputs": [
    {
     "name": "stdout",
     "output_type": "stream",
     "text": [
      "tensor([[1, 4, 9],\n",
      "        [9, 4, 1]])\n"
     ]
    }
   ],
   "source": [
    "# torch.mul()，shape相同，对应元素相乘\n",
    "print(torch.mul(tensorA_2x3,tensorA_2x3))"
   ]
  },
  {
   "cell_type": "code",
   "execution_count": 16,
   "metadata": {
    "collapsed": false
   },
   "outputs": [
    {
     "name": "stdout",
     "output_type": "stream",
     "text": [
      "tensor([[1, 4, 9],\n",
      "        [3, 4, 3]])\n",
      "tensor([[2, 4, 6],\n",
      "        [9, 6, 3]])\n"
     ]
    }
   ],
   "source": [
    "# torch.mul()，两元素shape不同\n",
    "print(torch.mul(tensorA_2x3, tensorB_1x3))\n",
    "print(torch.mul(tensorA_2x3, tensorD_2x1))"
   ]
  },
  {
   "cell_type": "code",
   "execution_count": 18,
   "metadata": {
    "collapsed": true
   },
   "outputs": [],
   "source": [
    "## *乘和torch.mul()方法一致，支持broadcast操作。任意一维得相同或者都相同，例如2x3矩阵能够和2*n、n*3以及2*3的矩阵做*乘、torch.mul()操作"
   ]
  },
  {
   "cell_type": "code",
   "execution_count": 22,
   "metadata": {
    "collapsed": false
   },
   "outputs": [
    {
     "name": "stdout",
     "output_type": "stream",
     "text": [
      "tensor([[22, 28],\n",
      "        [14, 20]])\n"
     ]
    }
   ],
   "source": [
    "# torch.mm(),二维矩阵乘法,不支持broadcast操作，实现的是数学中的矩阵乘法\n",
    "print(torch.mm(tensorA_2x3, tensorF_3x2))"
   ]
  },
  {
   "cell_type": "code",
   "execution_count": 25,
   "metadata": {
    "collapsed": false
   },
   "outputs": [
    {
     "name": "stdout",
     "output_type": "stream",
     "text": [
      "tensor([[[13, 13],\n",
      "         [11, 15]],\n",
      "\n",
      "        [[47, 52],\n",
      "         [53, 58]]])\n"
     ]
    }
   ],
   "source": [
    "# torch.bmm()，三维矩阵乘法，b表示的是batch，要求两个矩阵都是三维矩阵,mini-batch训练的时候可能会用到\n",
    "print(torch.bmm(tensorH_2x2x3, tensorG_2x3x2))"
   ]
  },
  {
   "cell_type": "code",
   "execution_count": 29,
   "metadata": {
    "collapsed": false
   },
   "outputs": [
    {
     "name": "stdout",
     "output_type": "stream",
     "text": [
      "tensor([[[ 1,  4,  9],\n",
      "         [ 9,  4,  1]],\n",
      "\n",
      "        [[ 4, 10, 18],\n",
      "         [18, 10,  4]]])\n"
     ]
    }
   ],
   "source": [
    "#torch.matmul()，支持broadcast的矩阵乘法\n",
    "# a*b*c c*n\n",
    "print(torch.matmul(tensorH_2x2x3, tensorF_3x2))"
   ]
  },
  {
   "cell_type": "code",
   "execution_count": 27,
   "metadata": {
    "collapsed": false
   },
   "outputs": [
    {
     "name": "stdout",
     "output_type": "stream",
     "text": [
      "tensor([[[ 7,  6,  5],\n",
      "         [15, 14, 13],\n",
      "         [23, 22, 21]],\n",
      "\n",
      "        [[16, 15, 14],\n",
      "         [36, 35, 34],\n",
      "         [56, 55, 54]]])\n"
     ]
    }
   ],
   "source": []
  },
  {
   "cell_type": "code",
   "execution_count": null,
   "metadata": {
    "collapsed": true
   },
   "outputs": [],
   "source": []
  }
 ],
 "metadata": {
  "anaconda-cloud": {},
  "kernelspec": {
   "display_name": "Python [conda env:pytorch]",
   "language": "python",
   "name": "conda-env-pytorch-py"
  },
  "language_info": {
   "codemirror_mode": {
    "name": "ipython",
    "version": 3
   },
   "file_extension": ".py",
   "mimetype": "text/x-python",
   "name": "python",
   "nbconvert_exporter": "python",
   "pygments_lexer": "ipython3",
   "version": "3.6.2"
  }
 },
 "nbformat": 4,
 "nbformat_minor": 1
}
